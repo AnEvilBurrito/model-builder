{
    "cells": [
        {
            "cell_type": "code",
            "execution_count": 1,
            "source": [
                "from src.reactions.MichaelisMenten import MichaelisMenten\r\n",
                "from src.Model import Model\r\n",
                "from src.reactions.MassAction import MassAction\r\n",
                "from src.reactions.MichaelisMentenGeneral import MichaelisMentenGeneral\r\n",
                "from src.reactions.MichaelisMenten import MichaelisMenten\r\n"
            ],
            "outputs": [],
            "metadata": {}
        },
        {
            "cell_type": "code",
            "execution_count": 2,
            "source": [
                "### Testing MA and Michaelean in refactor\r\n",
                "\r\n",
                "ma = MassAction('Sos', 'Grb2')\r\n",
                "print(ma.fs, ma.bs)\r\n",
                "print(ma.params)\r\n",
                "print(ma.paramNames)\r\n",
                "\r\n",
                "\r\n",
                "mm = MichaelisMenten('Erk', 'pErk')\r\n",
                "print(mm.fs, mm.bs)\r\n",
                "print(mm.params)\r\n",
                "print(mm.paramNames)\r\n",
                "\r\n",
                "print(mm.getBackwardEqStr(), mm.getForwardEqStr())\r\n",
                "\r\n",
                "r = MichaelisMentenGeneral(\"A\", \"B\")\r\n",
                "r.addStimulator(\"C\")\r\n",
                "r.addStimulator(\"D\")\r\n",
                "r.addInhibitor(\"I\", backward=True)\r\n",
                "r.addInhibitor(\"I2\", backward=True)\r\n",
                "print(r.getForwardEqStr())\r\n",
                "print(r.getBackwardEqStr())\r\n",
                "print(r.getParams())\r\n"
            ],
            "outputs": [
                {
                    "output_type": "stream",
                    "name": "stdout",
                    "text": [
                        "['Sos', 'Grb2'] ['SosuGrb2']\n",
                        "{'ka': 0.001, 'kd': 0.01}\n",
                        "{'ka': 'ka_Sos_Grb2', 'kd': 'kd_SosuGrb2'}\n",
                        "['Erk'] ['pErk']\n",
                        "{'vmaxf': 10, 'kmf': 100, 'vmaxb': 10, 'kmb': 100}\n",
                        "{'vmaxf': 'vm_Erk_to_pErk', 'kmf': 'km_Erk_to_pErk', 'vmaxb': 'vm_pErk_to_Erk', 'kmb': 'km_pErk_to_Erk'}\n",
                        "vm_pErk_to_Erk * pErk / (km_pErk_to_Erk + pErk) vm_Erk_to_pErk * Erk / (km_Erk_to_pErk + Erk)\n",
                        "(kc_A_to_B_C * C + kc_A_to_B_D * D) * A / (km_A_to_B + A)\n",
                        "(vm_B_to_A) * B / (km_B_to_A + B) * (1 + I / ki_B_to_A_I) * (1 + I / ki_B_to_A_I)\n",
                        "{'kmf': 100, 'vmaxb': 10, 'kmb': 100, 'kcf_C': 0.1, 'kcf_D': 0.1, 'kib_I': 0.01, 'kib_I2': 0.01}\n"
                    ]
                }
            ],
            "metadata": {}
        },
        {
            "cell_type": "code",
            "execution_count": null,
            "source": [
                "### testing model generation of .txtbc files\r\n",
                "\r\n",
                "test = Model('test')\r\n",
                "test.addReaction(ma)\r\n",
                "test.addReaction(mm)\r\n",
                "test.addReaction(r)\r\n",
                "\r\n",
                "test.generateTxtbc()\r\n"
            ],
            "outputs": [],
            "metadata": {}
        },
        {
            "cell_type": "code",
            "execution_count": null,
            "source": [
                "### Testing ODEModel\r\n",
                "\r\n",
                "from src.Model import OdeModel\r\n",
                "from scipy.integrate import odeint\r\n",
                "import numpy as np\r\n",
                "import matplotlib.pyplot as plt\r\n",
                "\r\n",
                "test_ode = OdeModel('test')\r\n",
                "test_ode.addReaction(ma)\r\n",
                "test_ode.addReaction(mm)\r\n",
                "test_ode.addReaction(r)\r\n",
                "\r\n",
                "t = np.linspace(0, 200, 200*100)\r\n",
                "P = odeint(diff, initial_p, t)\r\n",
                "\r\n",
                "uEGFRarr, EGFRarr, pEGFRarr = P.T\r\n",
                "\r\n",
                "plt.plot(t, uEGFRarr, label=\"uEGFR\")\r\n",
                "plt.plot(t, EGFRarr, label=\"EGFR\")\r\n",
                "plt.plot(t, pEGFRarr, label=\"pEGFR\")\r\n",
                "\r\n",
                "\r\n",
                "\r\n",
                "plt.grid()\r\n",
                "plt.legend()\r\n",
                "plt.show()\r\n",
                "\r\n"
            ],
            "outputs": [],
            "metadata": {}
        }
    ],
    "metadata": {
        "orig_nbformat": 4,
        "language_info": {
            "name": "python",
            "version": "3.7.3",
            "mimetype": "text/x-python",
            "codemirror_mode": {
                "name": "ipython",
                "version": 3
            },
            "pygments_lexer": "ipython3",
            "nbconvert_exporter": "python",
            "file_extension": ".py"
        },
        "kernelspec": {
            "name": "python3",
            "display_name": "Python 3.7.3 32-bit"
        },
        "interpreter": {
            "hash": "680d8f81e6d5888f1cd15ef4e79e8f2ef6d182732beaafb06774fe3fbff0deec"
        }
    },
    "nbformat": 4,
    "nbformat_minor": 2
}